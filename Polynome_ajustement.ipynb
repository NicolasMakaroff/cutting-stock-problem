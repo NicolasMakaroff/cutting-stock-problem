{
 "cells": [
  {
   "cell_type": "markdown",
   "metadata": {},
   "source": [
    "# Modèle :   $\\,\\, X_{t}=\\sum\\limits_{k=0}^{m} \\alpha_{k}\\ t^{k} + \\varepsilon_{t}$  \n",
    "\n",
    "### page 13 , formule 14 du cours"
   ]
  },
  {
   "cell_type": "code",
   "execution_count": null,
   "metadata": {},
   "outputs": [],
   "source": [
    "import numpy"
   ]
  },
  {
   "cell_type": "markdown",
   "metadata": {},
   "source": [
    "## méthode des moindres carrés :  $X=M\\,\\theta$  avec \n",
    "$\\theta =\\left( \\begin{array}{c} \\alpha_{0}\\\\\\alpha_{1}\\\\ \\vdots \\\\\\alpha_{m}\\end{array}\\right)$\n",
    "$\\, M=\\left( \\begin{array}{cccc} 1 &1 &\\ldots &1^k  \\\\\n",
    "                                1 & 2 & \\ldots & 2^k \\\\\n",
    "                                1 & 3 & \\ldots & 3^k \\\\\n",
    "                               \\vdots & \\vdots & \\vdots & \\vdots \\\\\n",
    "                               1 & T & \\ldots & T^k\n",
    "           \\end{array}\\right) $"
   ]
  },
  {
   "cell_type": "code",
   "execution_count": null,
   "metadata": {},
   "outputs": [],
   "source": [
    "def vecteur_puissance_k(T,k=1):\n",
    "    \n",
    "    V_k=[]\n",
    "    for d in range(1,k+1):\n",
    "        V_k.append(numpy.array([(i+1)**d for i in range(T)]))\n",
    "        \n",
    "    M=numpy.vstack((numpy.ones(T),[V_k[d] for d in range(k)])).T\n",
    "    \n",
    "    return M"
   ]
  },
  {
   "cell_type": "markdown",
   "metadata": {},
   "source": [
    "### Exemple d'appel "
   ]
  },
  {
   "cell_type": "code",
   "execution_count": null,
   "metadata": {},
   "outputs": [],
   "source": [
    "vecteur_puissance_k(5,k=3)"
   ]
  },
  {
   "cell_type": "markdown",
   "metadata": {},
   "source": [
    "## Estimation $\\,\\, \\hat{\\theta}=\\big( ^tM M \\big)^{-1}\\,^tM X$"
   ]
  },
  {
   "cell_type": "code",
   "execution_count": null,
   "metadata": {},
   "outputs": [],
   "source": [
    "def Polynome_Estimation(data,odre=1):\n",
    "    T=len(data)\n",
    "    M=vecteur_puissance_k(T,k=odre)\n",
    "    \n",
    "    S1=numpy.matmul(M.T, M)  # produit(transpose(M),M)\n",
    "    S2=numpy.linalg.inv(S1)\n",
    "    S3=numpy.matmul(data.T, M)\n",
    "    Estimateurs=numpy.matmul(S2, S3)\n",
    "    \n",
    "    return Estimateurs"
   ]
  },
  {
   "cell_type": "markdown",
   "metadata": {},
   "source": [
    "## Valeur d'un polynôme au point d'un vecteur\n",
    "\n",
    "## $P(X)=\\sum\\limits_{k=1}^{m+1} \\alpha_{k-1}\\, X^{k-1}$"
   ]
  },
  {
   "cell_type": "markdown",
   "metadata": {},
   "source": [
    "## Graphique"
   ]
  },
  {
   "cell_type": "code",
   "execution_count": null,
   "metadata": {},
   "outputs": [],
   "source": [
    "def valeur_polynome(data,coefficients):\n",
    "    data=numpy.array(data)\n",
    "    k=len(coefficients)\n",
    "    P_X=numpy.array(list(coefficients[j]*data**j for j in range(k)))\n",
    "    return sum(P_X)\n"
   ]
  },
  {
   "cell_type": "markdown",
   "metadata": {},
   "source": [
    "## Exemple d'appel"
   ]
  },
  {
   "cell_type": "code",
   "execution_count": null,
   "metadata": {},
   "outputs": [],
   "source": [
    "dx=[1,4,6,4]\n",
    "coeff=[1,-1,2]\n",
    "SS=valeur_polynome(dx,coeff)\n",
    "print(SS)"
   ]
  },
  {
   "cell_type": "code",
   "execution_count": null,
   "metadata": {},
   "outputs": [],
   "source": [
    "def Polynome_ajustement(data,degre=1):\n",
    "    %matplotlib inline\n",
    "    import matplotlib.pyplot as plt\n",
    "    \n",
    "    T=len(data)\n",
    "    \n",
    "    # récupérer l'estimateur\n",
    "    theta=Polynome_Estimation(data,odre=degre)\n",
    "\n",
    "    fig, ax = plt.subplots(figsize=(9, 6))\n",
    "\n",
    "    ax.spines['top'].set_visible(False)  # cacher le cadre du haut\n",
    "    ax.spines['right'].set_visible(False)  # cacher le cadre de droit\n",
    "\n",
    "    ax.xaxis.set_ticks_position('bottom')\n",
    "    ax.yaxis.set_ticks_position('left')\n",
    "\n",
    "    axe_X=numpy.array([t for t in range(1,T+1)])\n",
    "\n",
    "    plt.plot(axe_X, data,'o', label='données brutes', markersize=10)\n",
    "    \n",
    "    plt.plot(axe_X, valeur_polynome(axe_X,theta), 'r', label=\"polynôme d'ajustement\")\n",
    "        \n",
    "    \n",
    "    # ajouter la table des résultats\n",
    "    columns = (' ')\n",
    "    the_table = plt.table(cellText=numpy.array([['$\\\\hat{\\\\alpha}_{%d}$=%.6f'%(t, theta[t])] for t in range(len(theta))])\n",
    "                          ,colLabels=columns, \n",
    "                          bbox=[0.95, 0.25, 0.25, 0.32],\n",
    "                          edges=\"\")\n",
    "    \n",
    "    the_table.auto_set_font_size(False)\n",
    "    the_table.set_fontsize(16)\n",
    "    \n",
    "    \n",
    "    plt.subplots_adjust(left=0.2)\n",
    "    plt.legend()\n",
    "    plt.show()\n",
    "    \n",
    "    \n",
    "    \n",
    "    ## variance d'erreurs\n",
    "    MM=vecteur_puissance_k(len(data),k=degre)\n",
    "    E=data-numpy.dot(MM , theta)\n",
    "    \n",
    "    variance_erreurs=numpy.dot(E,E)/(1.0*(len(data)-len(theta)+1))\n",
    "    print(\"variance_erreurs=%.4f\"%variance_erreurs)\n",
    "    return variance_erreurs"
   ]
  },
  {
   "cell_type": "markdown",
   "metadata": {},
   "source": [
    "### simulation des données avec le polynôme : $h(t)=2+3t-3t^2+t^3$"
   ]
  },
  {
   "cell_type": "code",
   "execution_count": null,
   "metadata": {},
   "outputs": [],
   "source": [
    "h=lambda x : 2+3*x-3*x**2+x**3\n",
    "donnees=numpy.array([h(x)+numpy.random.normal(0,2) for x in range(1,21)])"
   ]
  },
  {
   "cell_type": "code",
   "execution_count": null,
   "metadata": {},
   "outputs": [],
   "source": [
    "Polynome_ajustement(donnees,degre=3)"
   ]
  },
  {
   "cell_type": "markdown",
   "metadata": {},
   "source": [
    "<h1 style=\"color:#003399;\">  Exercice 1.   Application aux données de l'Exemple 6. du cours  </h1>"
   ]
  },
  {
   "cell_type": "code",
   "execution_count": null,
   "metadata": {},
   "outputs": [],
   "source": [
    "import pandas"
   ]
  },
  {
   "cell_type": "code",
   "execution_count": null,
   "metadata": {},
   "outputs": [],
   "source": [
    "data = pandas.read_table(\"gdp.dat\", sep= \"\\s+\",   lineterminator='\\n')\n",
    "data"
   ]
  },
  {
   "cell_type": "code",
   "execution_count": null,
   "metadata": {},
   "outputs": [],
   "source": [
    "data['YEAR']"
   ]
  },
  {
   "cell_type": "code",
   "execution_count": null,
   "metadata": {},
   "outputs": [],
   "source": [
    "data[data.columns[3]].values"
   ]
  },
  {
   "cell_type": "code",
   "execution_count": null,
   "metadata": {},
   "outputs": [],
   "source": [
    "for k in range(3,7):\n",
    "    print(\"degré={:d}\".format(k))\n",
    "    Polynome_ajustement(data[data.columns[3]].values,degre=k)"
   ]
  },
  {
   "cell_type": "markdown",
   "metadata": {},
   "source": [
    "<h1 style=\"color:#003399;\">  Exercice 2.   Application aux données \"PIB_1960_2018.csv\"  </h1>"
   ]
  },
  {
   "cell_type": "code",
   "execution_count": null,
   "metadata": {},
   "outputs": [],
   "source": []
  }
 ],
 "metadata": {
  "kernelspec": {
   "display_name": "Python 3",
   "language": "python",
   "name": "python3"
  },
  "language_info": {
   "codemirror_mode": {
    "name": "ipython",
    "version": 3
   },
   "file_extension": ".py",
   "mimetype": "text/x-python",
   "name": "python",
   "nbconvert_exporter": "python",
   "pygments_lexer": "ipython3",
   "version": "3.6.5"
  }
 },
 "nbformat": 4,
 "nbformat_minor": 2
}

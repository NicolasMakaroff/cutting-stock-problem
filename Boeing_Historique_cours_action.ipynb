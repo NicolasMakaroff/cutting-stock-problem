{
 "cells": [
  {
   "cell_type": "markdown",
   "metadata": {},
   "source": [
    "# Données historiques du cours de l'action Boeing"
   ]
  },
  {
   "cell_type": "markdown",
   "metadata": {},
   "source": [
    "## Lecture des données"
   ]
  },
  {
   "cell_type": "code",
   "execution_count": null,
   "metadata": {},
   "outputs": [],
   "source": [
    "# Colonne : \"Date\" commme index\n",
    "\n",
    "import pandas\n",
    "data_B=pandas.read_csv(\"Boeing.csv\",sep=\",\",index_col='Date', parse_dates=True)\n",
    "data_B.head(5)"
   ]
  },
  {
   "cell_type": "markdown",
   "metadata": {},
   "source": [
    "## noms des colonnes"
   ]
  },
  {
   "cell_type": "code",
   "execution_count": null,
   "metadata": {},
   "outputs": [],
   "source": [
    "data_B.columns"
   ]
  },
  {
   "cell_type": "code",
   "execution_count": null,
   "metadata": {},
   "outputs": [],
   "source": [
    "## Valeur Ajustée de l'action à la ferméture\n",
    "data_B.columns[5]"
   ]
  },
  {
   "cell_type": "markdown",
   "metadata": {},
   "source": [
    "## graphe de la Valeur ajustée de l'action à la ferméture"
   ]
  },
  {
   "cell_type": "code",
   "execution_count": null,
   "metadata": {},
   "outputs": [],
   "source": [
    "%matplotlib inline\n",
    "import matplotlib.pyplot as plt\n",
    "import numpy\n",
    "Couleur_Alea=[numpy.around(numpy.random.rand(3),decimals=2)]\n",
    "\n",
    "data_B[[data_B.columns[5]]].plot(figsize=(11,8),color=Couleur_Alea,lw=3)\n",
    "plt.show()"
   ]
  },
  {
   "cell_type": "code",
   "execution_count": null,
   "metadata": {},
   "outputs": [],
   "source": [
    "## Date\n",
    "data_B.index"
   ]
  },
  {
   "cell_type": "markdown",
   "metadata": {},
   "source": [
    "## Données à partir du 01/juin/2017"
   ]
  },
  {
   "cell_type": "code",
   "execution_count": null,
   "metadata": {},
   "outputs": [],
   "source": [
    "import numpy\n",
    "Couleur_Alea1=[numpy.around(numpy.random.rand(3),decimals=2)]\n",
    "\n",
    "data_B[[data_B.columns[5]]][data_B.index>'2017-06-01'].plot(figsize=(11,8),lw=2,color=Couleur_Alea1)\n",
    "plt.show()"
   ]
  },
  {
   "cell_type": "markdown",
   "metadata": {},
   "source": [
    "## Statistques Descriptives  des Données à partir du 01/juin/2017"
   ]
  },
  {
   "cell_type": "code",
   "execution_count": null,
   "metadata": {},
   "outputs": [],
   "source": [
    "data_B[[data_B.columns[5]]][data_B.index>'2017-06-01'].describe(include='all')"
   ]
  },
  {
   "cell_type": "markdown",
   "metadata": {},
   "source": [
    "## Histogramme  des Données à partir du 01/juin/2017"
   ]
  },
  {
   "cell_type": "code",
   "execution_count": null,
   "metadata": {},
   "outputs": [],
   "source": [
    "import random\n",
    "Couleur_Alea2=[random.random(),random.random(),random.random(),0.99]\n",
    "\n",
    "ax1= plt.gca()\n",
    "data_B[[data_B.columns[5]]][data_B.index>'2017-06-01'].plot.hist(bins=13, ec=\"white\",\n",
    "                                                                 color=[Couleur_Alea2],figsize=(11,8),ax=ax1)\n",
    "\n",
    "# cacher cadre haut et droit\n",
    "ax1.spines['right'].set_visible(False)\n",
    "ax1.spines['top'].set_visible(False)\n",
    "\n",
    "ax1.yaxis.set_ticks_position('left')\n",
    "ax1.xaxis.set_ticks_position('bottom')\n",
    "\n",
    "plt.ylabel(\"fréquences\")\n",
    "plt.xlabel(\"valeur  ajustée\")\n",
    "\n",
    "plt.show()"
   ]
  },
  {
   "cell_type": "markdown",
   "metadata": {},
   "source": [
    "## filtrage des données\n",
    "\n",
    "### 4.3 Moyenne Mobile, page 15"
   ]
  },
  {
   "cell_type": "markdown",
   "metadata": {},
   "source": [
    "## $ M_{h}(t)=\\frac{1}{2h+1}\\,\\sum\\limits_{j=-h}^{h} X_{t+j} \\,\\,\\, , \\,\\,\\, t\\in\\lbrace h+1,\\ldots, T-h \\rbrace $"
   ]
  },
  {
   "cell_type": "code",
   "execution_count": null,
   "metadata": {},
   "outputs": [],
   "source": [
    "def Moyen_Mobile(data,ordre=1):\n",
    "    # M_h(t)=sum(X[t+j], j=-h,....,h)/(2h+1)  h+1<= t <=T-h\n",
    "    # ordre =h\n",
    "    T=len(data)\n",
    "    X_F=[]  # data filtré\n",
    "    c=1.0/(2*ordre+1)\n",
    "    for t in range(ordre,T-ordre):\n",
    "        X_F.append(c*sum([data[j+t] for j in numpy.arange(-ordre,ordre+1,1) ]))\n",
    "    \n",
    "    # graphe\n",
    "    fig = plt.figure(figsize=(10, 7))\n",
    "    ax = fig.add_subplot(111)\n",
    "    # cacher axes  'haut' et 'droit':\n",
    "    for side in ['right','top']:\n",
    "        ax.spines[side].set_visible(False)\n",
    "    \n",
    "    plt.plot(data,':r')\n",
    "    plt.plot(X_F,'-k')\n",
    "    plt.legend(['données brutes', 'données filtrées'])\n",
    "    plt.title(\"filtre d'ordre {}\".format(ordre))\n",
    "    plt.show()\n",
    "    \n",
    "    #return X_F\n",
    "\n",
    "#les valeurs\n",
    "XX=data_B[[data_B.columns[5]]][data_B.index>'2017-06-01'].values\n",
    "#Moyen_Mobile([x[0] for x in XX],ordre=3)\n",
    "\n",
    "Moyen_Mobile(XX,ordre=3)"
   ]
  },
  {
   "cell_type": "markdown",
   "metadata": {},
   "source": [
    "## Filtre de Hanning\n",
    "## $M_H(t)=0.25\\,X_{t-1}+0.5 \\, X_{t}+0.25 \\, X_{t+1}  \\,\\,, \\,\\, 2\\leq  t \\leq T-1$"
   ]
  },
  {
   "cell_type": "code",
   "execution_count": null,
   "metadata": {},
   "outputs": [],
   "source": [
    "def Filtre_Hanning(data):\n",
    "    # M_H(t)=0.25*X_{t-1}+0.5*X_{t}+0.25*X_{t+1}  2<= t <=T-1\n",
    "    T=len(data)\n",
    "    FH=[]  # data filtré\n",
    "    for t in range(1,T-1):\n",
    "        FH.append(0.25*data[t-1]+0.5*data[t]+0.25*data[t+1])\n",
    "    \n",
    "    # graphe\n",
    "    fig = plt.figure(figsize=(10, 7))\n",
    "    ax = fig.add_subplot(111)\n",
    "    # cacher axes  'haut' et 'droit':\n",
    "    for side in ['right','top']:\n",
    "        ax.spines[side].set_visible(False)\n",
    "    \n",
    "    plt.plot(data,':r')\n",
    "    plt.plot(FH,'-k')\n",
    "    plt.legend(['données brutes', 'données filtrées'])\n",
    "        \n",
    "    plt.show()\n",
    "    \n",
    "    #return FH\n",
    "\n",
    "#les valeurs\n",
    "XX=data_B[[data_B.columns[5]]][data_B.index>'2017-06-01'].values\n",
    "Filtre_Hanning([x[0] for x in XX])\n",
    "\n",
    "#Filtre_Hanning(XX)"
   ]
  },
  {
   "cell_type": "markdown",
   "metadata": {},
   "source": [
    "<h1 style=\"color:green;\"> Filtrage Aléatoire  </h1>\n",
    "\n",
    "## $ MR_{h}(t)=\\sum\\limits_{j=-h}^{h} \\alpha_{j}\\,X_{t+j} \\,\\,\\, , \\,\\,\\, t\\in\\lbrace h+1,\\ldots, T-h \\rbrace $\n"
   ]
  },
  {
   "cell_type": "markdown",
   "metadata": {},
   "source": [
    "## 1.   avec la  contrainte  $\\forall j , 0\\leq \\alpha_{j} < 1  $ , $\\alpha_{-j}=\\alpha_{j}$  et  $\\sum\\limits_{j=-h}^{h} \\alpha_{j}=1$"
   ]
  },
  {
   "cell_type": "code",
   "execution_count": null,
   "metadata": {},
   "outputs": [],
   "source": [
    "import numpy\n",
    "import random\n",
    "\n",
    "def Moyen_Mobile_Rand(data,ordre=1):\n",
    "    # M_H(t)=sum(a[j]*X[t+j], j=-h,....,h)  h+1<= t <=T-h\n",
    "    # tirage de  : ordre+1 nombre aléatoire\n",
    "    S=random.sample([random.randint(1,4*ordre) for _ in range(ordre+1)], k=ordre+1)\n",
    "    \n",
    "    A=[0]*(2*ordre+1)  # initialisation\n",
    "    A[ordre]=S[ordre]\n",
    "    for i in range(ordre):\n",
    "        A[2*ordre-i%ordre]=S[i]\n",
    "        A[i%ordre]=S[i]\n",
    "    \n",
    "    A=[float(numpy.round(t/numpy.sum(A),decimals=4)) for t in A]\n",
    "    #print(\"alpha=\",A)\n",
    "    \n",
    "    T=len(data)\n",
    "    X_F=[]  # data filtré\n",
    "    for t in range(ordre,T-ordre):\n",
    "        X_F.append(sum([A[j]*data[j+t] for j in numpy.arange(-ordre,ordre+1,1) ]))\n",
    "    \n",
    "    # graphe\n",
    "    fig = plt.figure(figsize=(10, 7))\n",
    "    ax = fig.add_subplot(111)\n",
    "    # cacher axes  'haut' et 'droit':\n",
    "    for side in ['right','top']:\n",
    "        ax.spines[side].set_visible(False)\n",
    "    \n",
    "    plt.plot(data,':r')\n",
    "    plt.plot(X_F,'-k')\n",
    "    plt.legend(['données brutes', 'données filtrées'])\n",
    "    \n",
    "    \n",
    "    # pour le titre \n",
    "    titre=[]\n",
    "    for k in range(2*ordre+1):\n",
    "        if k-ordre <0:\n",
    "            if k==0:\n",
    "                titre.append(\"$\\\\alpha_{%d} X_{t%d}+\"%(k+1,k-ordre))\n",
    "            else:\n",
    "                titre.append(\"\\\\alpha_{%d} X_{t%d}+\"%(k+1,k-ordre))\n",
    "        if k-ordre==0:\n",
    "            titre.append(\"\\\\alpha_{%d} X_{t}+\"%(k+1))\n",
    "        if k-ordre >0:\n",
    "            if k==2*ordre:\n",
    "                titre.append(\"\\\\alpha_{%d} X_{t+%d}$\"%(k+1,k-ordre))\n",
    "            else:\n",
    "                titre.append(\"\\\\alpha_{%d} X_{t+%d}+\"%(k+1,k-ordre))\n",
    "    #print(titre)\n",
    "    titre1=\"\".join(titre)\n",
    "    \n",
    "    \n",
    "    plt.title(\"$\\\\alpha =%s$ \\n %s\"%(A,titre1), fontsize=14)\n",
    "    \n",
    "    plt.show()\n",
    "    \n",
    "    #return X_F\n",
    "\n",
    "#les valeurs\n",
    "XX=data_B[[data_B.columns[5]]][data_B.index>'2017-06-01'].values\n",
    "#Moyen_Mobile_Rand([x[0] for x in XX],ordre=3)\n",
    "\n",
    "Moyen_Mobile_Rand(XX,ordre=1)"
   ]
  },
  {
   "cell_type": "markdown",
   "metadata": {},
   "source": [
    "## 2.   avec la  contrainte  $\\forall j , -1 \\leq \\alpha_{j} \\leq1  $  et  $\\sum\\limits_{j=-h}^{h} \\alpha_{j}=1$"
   ]
  },
  {
   "cell_type": "code",
   "execution_count": null,
   "metadata": {},
   "outputs": [],
   "source": [
    "import numpy\n",
    "import random\n",
    "\n",
    "def Moyen_Mobile_Rand2(data,ordre=1):\n",
    "    # M_H(t)=sum(a[j]*X[t+j], j=-h,....,h)  h+1<= t <=T-h\n",
    "    # tirage de  : 2*ordre+1 nombre aléatoire\n",
    "    \n",
    "    \n",
    "    # simulation des nombre aléatoires dans l'intervalle [-1,1]\n",
    "    # avec somme =1\n",
    "\n",
    "    def simul_somme(h):\n",
    "        import random\n",
    "        B=[]\n",
    "        Compt=0\n",
    "        while True:\n",
    "            Compt += 1\n",
    "            A=[-1+2*random.random() for _ in range(int(2*h+1))]\n",
    "        \n",
    "            if sum(A)>0:\n",
    "                B.extend(A)\n",
    "                break\n",
    "        return [x/sum(B) for x in B]\n",
    "    \n",
    "    S=simul_somme(ordre)\n",
    "    \n",
    "    A=[round(S[ordre+i] , 4) for i in range(-ordre,ordre+1,1)]\n",
    "    #print(\"alpha=\",A)\n",
    "    \n",
    "    T=len(data)\n",
    "    X_F=[]  # data filtré\n",
    "    for t in range(ordre,T-ordre):\n",
    "        X_F.append(sum([A[j]*data[j+t] for j in numpy.arange(-ordre,ordre+1,1) ]))\n",
    "    \n",
    "    # graphe\n",
    "    fig = plt.figure(figsize=(10, 7))\n",
    "    ax = fig.add_subplot(111)\n",
    "    # cacher axes  'haut' et 'droit':\n",
    "    for side in ['right','top']:\n",
    "        ax.spines[side].set_visible(False)\n",
    "    \n",
    "    plt.plot(data,':r')\n",
    "    plt.plot(X_F,'-k')\n",
    "    plt.legend(['données brutes', 'données filtrées'])\n",
    "    \n",
    "    # pour le titre \n",
    "    titre=[]\n",
    "    for k in range(2*ordre+1):\n",
    "        if k-ordre <0:\n",
    "            if k==0:\n",
    "                titre.append(\"$\\\\alpha_{%d} X_{t%d}+\"%(k+1,k-ordre))\n",
    "            else:\n",
    "                titre.append(\"\\\\alpha_{%d} X_{t%d}+\"%(k+1,k-ordre))\n",
    "        if k-ordre==0:\n",
    "            titre.append(\"\\\\alpha_{%d} X_{t}+\"%(k+1))\n",
    "        if k-ordre >0:\n",
    "            if k==2*ordre:\n",
    "                titre.append(\"\\\\alpha_{%d} X_{t+%d}$\"%(k+1,k-ordre))\n",
    "            else:\n",
    "                titre.append(\"\\\\alpha_{%d} X_{t+%d}+\"%(k+1,k-ordre))\n",
    "    #print(titre)\n",
    "    titre1=\"\".join(titre)\n",
    "    \n",
    "    \n",
    "    plt.title(\"$\\\\alpha =%s$ \\n %s\"%(A,titre1), fontsize=14)\n",
    "    \n",
    "    plt.show()\n",
    "    \n",
    "    #return X_F\n",
    "\n",
    "#les valeurs\n",
    "XX=data_B[[data_B.columns[5]]][data_B.index>'2017-06-01'].values\n",
    "#Moyen_Mobile_Rand([x[0] for x in XX],ordre=3)\n",
    "\n",
    "Moyen_Mobile_Rand2(XX,ordre=3)"
   ]
  },
  {
   "cell_type": "code",
   "execution_count": null,
   "metadata": {},
   "outputs": [],
   "source": []
  },
  {
   "cell_type": "markdown",
   "metadata": {},
   "source": [
    "<h1 style=\"color:#996633;\"> Exercice.  Appliquer le modèle de Filtrage aux données de CAC40  </h1>"
   ]
  },
  {
   "cell_type": "code",
   "execution_count": null,
   "metadata": {},
   "outputs": [],
   "source": []
  }
 ],
 "metadata": {
  "kernelspec": {
   "display_name": "Python 3",
   "language": "python",
   "name": "python3"
  },
  "language_info": {
   "codemirror_mode": {
    "name": "ipython",
    "version": 3
   },
   "file_extension": ".py",
   "mimetype": "text/x-python",
   "name": "python",
   "nbconvert_exporter": "python",
   "pygments_lexer": "ipython3",
   "version": "3.6.5"
  }
 },
 "nbformat": 4,
 "nbformat_minor": 2
}

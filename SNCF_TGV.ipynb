{
 "cells": [
  {
   "cell_type": "markdown",
   "metadata": {},
   "source": [
    "# Régularité mensuelle TGV par liaisons\n",
    "\n",
    "## https://data.sncf.com/explore/dataset/regularite-mensuelle-tgv-aqst/information/?sort=periode"
   ]
  },
  {
   "cell_type": "code",
   "execution_count": null,
   "metadata": {},
   "outputs": [],
   "source": [
    "import pandas\n",
    "fichier=\"regularite-mensuelle-tgv-aqst.csv\"\n",
    "\n",
    "#df = pandas.read_csv(fichier,sep=\";\")\n",
    "df=pandas.read_table(fichier,sep=\";\")\n",
    "df.head(5)  #  afficher les 5 premières lignes"
   ]
  },
  {
   "cell_type": "markdown",
   "metadata": {},
   "source": [
    "## noms des colonnes"
   ]
  },
  {
   "cell_type": "code",
   "execution_count": null,
   "metadata": {},
   "outputs": [],
   "source": [
    "df.columns"
   ]
  },
  {
   "cell_type": "markdown",
   "metadata": {},
   "source": [
    "## Ordonner les données par année et mois"
   ]
  },
  {
   "cell_type": "code",
   "execution_count": null,
   "metadata": {},
   "outputs": [],
   "source": [
    "df=df.sort_values(by=[df.columns[0] , df.columns[1]])\n",
    "df.head(9)"
   ]
  },
  {
   "cell_type": "markdown",
   "metadata": {},
   "source": [
    "## nombres d'occurences (Gare de départ)"
   ]
  },
  {
   "cell_type": "markdown",
   "metadata": {},
   "source": [
    "### 1. par dictionnaire"
   ]
  },
  {
   "cell_type": "code",
   "execution_count": null,
   "metadata": {},
   "outputs": [],
   "source": [
    "Dic={}  #  dictionnaire\n",
    "# dic['clé']=valeur\n",
    "# clé de dictionnaire = Nom de Gare (axe) \n",
    "# valeur de dictionnaire = nombre d'observations\n",
    "\n",
    "for x in df[df.columns[3]].values:\n",
    "    Dic[x]=list(df[df.columns[3]].values).count(x)\n",
    "\n",
    "\n",
    "## ordonner le dictionnaire par les clés\n",
    "#import collections \n",
    "#Dic=collections.OrderedDict(sorted(Dic.items(), key=lambda t: t[0]))\n",
    "Dic"
   ]
  },
  {
   "cell_type": "markdown",
   "metadata": {},
   "source": [
    "### 2. par le module pandas"
   ]
  },
  {
   "cell_type": "code",
   "execution_count": null,
   "metadata": {},
   "outputs": [],
   "source": [
    "df[df.columns[3]].value_counts()"
   ]
  },
  {
   "cell_type": "code",
   "execution_count": null,
   "metadata": {},
   "outputs": [],
   "source": [
    "# pour l'axe Paris EST\n",
    "df[df['Gare de départ']=='PARIS EST']"
   ]
  },
  {
   "cell_type": "markdown",
   "metadata": {},
   "source": [
    "## graphique  (Nombre de circulations prévues)"
   ]
  },
  {
   "cell_type": "code",
   "execution_count": null,
   "metadata": {},
   "outputs": [],
   "source": [
    "%matplotlib inline\n",
    "import matplotlib.pyplot as plt\n",
    "\n",
    "Paris_Est=df[df['Gare de départ']=='PARIS EST']\n",
    "Paris_Est.head(4)"
   ]
  },
  {
   "cell_type": "code",
   "execution_count": null,
   "metadata": {},
   "outputs": [],
   "source": [
    "print(\"Paris  EST : \",Paris_Est.columns[6])\n",
    "\n",
    "fig = plt.figure(figsize=(10,7))\n",
    "ax1 = fig.add_subplot(111)\n",
    "# cacher les cadres : haut et droit\n",
    "ax1.spines['right'].set_visible(False)\n",
    "ax1.spines['top'].set_visible(False)\n",
    "\n",
    "\n",
    "ax1.xaxis.set_ticks_position('bottom')\n",
    "\n",
    "plt.plot(Paris_Est[Paris_Est.columns[6]].values)\n",
    "plt.show()"
   ]
  },
  {
   "cell_type": "markdown",
   "metadata": {
    "collapsed": true
   },
   "source": [
    "## histogramme (Nombre de circulations prévues)"
   ]
  },
  {
   "cell_type": "code",
   "execution_count": null,
   "metadata": {},
   "outputs": [],
   "source": [
    "%matplotlib inline\n",
    "import matplotlib.pyplot as plt\n",
    "import numpy\n",
    "\n",
    "Paris_Est=df[df['Gare de départ']=='PARIS EST']\n",
    "\n",
    "print(\"Paris  EST : \",Paris_Est.columns[6])\n",
    "\n",
    "fig = plt.figure(figsize=(10,7))\n",
    "ax1 = fig.add_subplot(111)\n",
    "\n",
    "# cacher les cadres : haut , droit et gauche\n",
    "ax1.spines['right'].set_visible(False)\n",
    "#ax1.spines['left'].set_visible(False)\n",
    "ax1.spines['top'].set_visible(False)\n",
    "\n",
    "\n",
    "ax1.xaxis.set_ticks_position('bottom')\n",
    "#ax1.set_yticks([])\n",
    "\n",
    "plt.hist(Paris_Est[Paris_Est.columns[6]].values , ec=\"white\",color=numpy.random.rand(3))\n",
    "plt.show()"
   ]
  },
  {
   "cell_type": "markdown",
   "metadata": {},
   "source": [
    "## graphique  (Nombre de trains annulés)"
   ]
  },
  {
   "cell_type": "code",
   "execution_count": null,
   "metadata": {},
   "outputs": [],
   "source": [
    "print(\"Paris  EST : \",Paris_Est.columns[7])\n",
    "\n",
    "fig = plt.figure()\n",
    "ax1 = fig.add_subplot(111)\n",
    "# cacher les cadres : haut et droit\n",
    "ax1.spines['right'].set_visible(False)\n",
    "ax1.spines['top'].set_visible(False)\n",
    "\n",
    "\n",
    "ax1.xaxis.set_ticks_position('bottom')\n",
    "\n",
    "plt.plot(Paris_Est[Paris_Est.columns[7]].values)\n",
    "plt.show()"
   ]
  },
  {
   "cell_type": "markdown",
   "metadata": {},
   "source": [
    "## histogramme (Nombre de trains annulés)"
   ]
  },
  {
   "cell_type": "code",
   "execution_count": null,
   "metadata": {},
   "outputs": [],
   "source": [
    "import numpy\n",
    "print(\"Paris  EST : \",Paris_Est.columns[7])\n",
    "\n",
    "fig = plt.figure(figsize=(10,7))\n",
    "ax1 = fig.add_subplot(111)\n",
    "\n",
    "# cacher les cadres : haut , droit et gauche\n",
    "ax1.spines['right'].set_visible(False)\n",
    "#ax1.spines['left'].set_visible(False)\n",
    "ax1.spines['top'].set_visible(False)\n",
    "\n",
    "\n",
    "ax1.xaxis.set_ticks_position('bottom')\n",
    "#ax1.set_yticks([])\n",
    "\n",
    "plt.hist(Paris_Est[Paris_Est.columns[7]].values , ec=\"white\",color=numpy.random.rand(3))\n",
    "plt.show()"
   ]
  },
  {
   "cell_type": "markdown",
   "metadata": {},
   "source": [
    "## graphique  (Nombre de trains en retard au départ)"
   ]
  },
  {
   "cell_type": "code",
   "execution_count": null,
   "metadata": {},
   "outputs": [],
   "source": [
    "print(\"Paris  EST : \",Paris_Est.columns[9])\n",
    "\n",
    "fig = plt.figure()\n",
    "ax1 = fig.add_subplot(111)\n",
    "# cacher les cadres : haut et droit\n",
    "ax1.spines['right'].set_visible(False)\n",
    "ax1.spines['top'].set_visible(False)\n",
    "\n",
    "\n",
    "ax1.xaxis.set_ticks_position('bottom')\n",
    "\n",
    "plt.plot(Paris_Est[Paris_Est.columns[9]].values)\n",
    "plt.show()"
   ]
  },
  {
   "cell_type": "markdown",
   "metadata": {},
   "source": [
    "## histogramme (Nombre de trains en retard au départ)"
   ]
  },
  {
   "cell_type": "code",
   "execution_count": null,
   "metadata": {},
   "outputs": [],
   "source": [
    "import numpy\n",
    "print(\"Paris  EST : \",Paris_Est.columns[9])\n",
    "\n",
    "fig = plt.figure(figsize=(10,7))\n",
    "ax1 = fig.add_subplot(111)\n",
    "\n",
    "# cacher les cadres : haut , droit et gauche\n",
    "ax1.spines['right'].set_visible(False)\n",
    "#ax1.spines['left'].set_visible(False)\n",
    "ax1.spines['top'].set_visible(False)\n",
    "\n",
    "\n",
    "ax1.xaxis.set_ticks_position('bottom')\n",
    "#ax1.set_yticks([])\n",
    "\n",
    "plt.hist(Paris_Est[Paris_Est.columns[9]].values , ec=\"white\",color=numpy.random.rand(3))\n",
    "plt.show()"
   ]
  },
  {
   "cell_type": "markdown",
   "metadata": {},
   "source": [
    "## graphique  (Nombre de trains en retard à l'arrivée)"
   ]
  },
  {
   "cell_type": "code",
   "execution_count": null,
   "metadata": {},
   "outputs": [],
   "source": [
    "print(\"Paris  EST : \",Paris_Est.columns[13])\n",
    "\n",
    "fig = plt.figure()\n",
    "ax1 = fig.add_subplot(111)\n",
    "# cacher les cadres : haut et droit\n",
    "ax1.spines['right'].set_visible(False)\n",
    "ax1.spines['top'].set_visible(False)\n",
    "\n",
    "\n",
    "ax1.xaxis.set_ticks_position('bottom')\n",
    "\n",
    "plt.plot(Paris_Est[Paris_Est.columns[13]].values)\n",
    "plt.show()"
   ]
  },
  {
   "cell_type": "markdown",
   "metadata": {},
   "source": [
    "## histogramme (Nombre de trains en retard à l'arrivée)"
   ]
  },
  {
   "cell_type": "code",
   "execution_count": null,
   "metadata": {},
   "outputs": [],
   "source": [
    "import numpy\n",
    "print(\"Paris  EST : \",Paris_Est.columns[13])\n",
    "\n",
    "fig = plt.figure(figsize=(10,7))\n",
    "ax1 = fig.add_subplot(111)\n",
    "\n",
    "# cacher les cadres : haut , droit et gauche\n",
    "ax1.spines['right'].set_visible(False)\n",
    "#ax1.spines['left'].set_visible(False)\n",
    "ax1.spines['top'].set_visible(False)\n",
    "\n",
    "\n",
    "ax1.xaxis.set_ticks_position('bottom')\n",
    "#ax1.set_yticks([])\n",
    "\n",
    "plt.hist(Paris_Est[Paris_Est.columns[13]].values , ec=\"white\",color=numpy.random.rand(3))\n",
    "plt.show()"
   ]
  },
  {
   "cell_type": "markdown",
   "metadata": {},
   "source": [
    "## graphique  (Nombre trains en retard > 15min)"
   ]
  },
  {
   "cell_type": "code",
   "execution_count": null,
   "metadata": {},
   "outputs": [],
   "source": [
    "Paris_Est_1=Paris_Est[Paris_Est[Paris_Est.columns[23]].notnull()]  # supprimer les données manquantes\n",
    "\n",
    "#Paris_Est_1[Paris_Est_1.columns[23]].values"
   ]
  },
  {
   "cell_type": "code",
   "execution_count": null,
   "metadata": {},
   "outputs": [],
   "source": [
    "fig = plt.figure(figsize=(10,7))\n",
    "ax1 = fig.add_subplot(111)\n",
    "# cacher les cadres : haut et droit\n",
    "ax1.spines['right'].set_visible(False)\n",
    "ax1.spines['top'].set_visible(False)\n",
    "\n",
    "\n",
    "ax1.xaxis.set_ticks_position('bottom')\n",
    "\n",
    "plt.plot(Paris_Est_1[Paris_Est_1.columns[23]].values)\n",
    "plt.title(\"Paris  EST : {}\".format(Paris_Est.columns[23]))\n",
    "plt.show()"
   ]
  },
  {
   "cell_type": "markdown",
   "metadata": {},
   "source": [
    "## histogramme  (Nombre trains en retard > 15min)"
   ]
  },
  {
   "cell_type": "code",
   "execution_count": null,
   "metadata": {},
   "outputs": [],
   "source": [
    "import numpy\n",
    "print(\"Paris  EST : \",Paris_Est.columns[23])\n",
    "\n",
    "fig = plt.figure(figsize=(10,7))\n",
    "ax1 = fig.add_subplot(111)\n",
    "\n",
    "# cacher les cadres : haut , droit et gauche\n",
    "ax1.spines['right'].set_visible(False)\n",
    "#ax1.spines['left'].set_visible(False)\n",
    "ax1.spines['top'].set_visible(False)\n",
    "\n",
    "\n",
    "ax1.xaxis.set_ticks_position('bottom')\n",
    "#ax1.set_yticks([])\n",
    "\n",
    "plt.hist(Paris_Est_1[Paris_Est_1.columns[23]].values , ec=\"white\",color=numpy.random.rand(3))\n",
    "plt.show()"
   ]
  },
  {
   "cell_type": "markdown",
   "metadata": {},
   "source": [
    "## graphique  (Nombre trains en retard > 30min)"
   ]
  },
  {
   "cell_type": "code",
   "execution_count": null,
   "metadata": {},
   "outputs": [],
   "source": [
    "Paris_Est_2=Paris_Est[Paris_Est[Paris_Est.columns[25]].notnull()]  # supprimer les données manquantes\n",
    "\n",
    "#Paris_Est_2[Paris_Est_2.columns[25]].values"
   ]
  },
  {
   "cell_type": "code",
   "execution_count": null,
   "metadata": {},
   "outputs": [],
   "source": [
    "print(\"Paris  EST : \",Paris_Est.columns[25])\n",
    "\n",
    "fig = plt.figure(figsize=(10,7))\n",
    "ax1 = fig.add_subplot(111)\n",
    "# cacher les cadres : haut et droit\n",
    "ax1.spines['right'].set_visible(False)\n",
    "ax1.spines['top'].set_visible(False)\n",
    "\n",
    "\n",
    "ax1.xaxis.set_ticks_position('bottom')\n",
    "\n",
    "plt.plot(Paris_Est_2[Paris_Est_2.columns[25]].values)\n",
    "plt.show()"
   ]
  },
  {
   "cell_type": "markdown",
   "metadata": {},
   "source": [
    "## histogramme  (Nombre trains en retard > 30min)"
   ]
  },
  {
   "cell_type": "code",
   "execution_count": null,
   "metadata": {},
   "outputs": [],
   "source": [
    "import numpy\n",
    "print(\"Paris  EST : \",Paris_Est.columns[25])\n",
    "\n",
    "fig = plt.figure(figsize=(10,7))\n",
    "ax1 = fig.add_subplot(111)\n",
    "\n",
    "# cacher les cadres : haut , droit et gauche\n",
    "ax1.spines['right'].set_visible(False)\n",
    "#ax1.spines['left'].set_visible(False)\n",
    "ax1.spines['top'].set_visible(False)\n",
    "\n",
    "\n",
    "ax1.xaxis.set_ticks_position('bottom')\n",
    "#ax1.set_yticks([])\n",
    "\n",
    "plt.hist(Paris_Est_2[Paris_Est_2.columns[25]].values , ec=\"white\",color=numpy.random.rand(3))\n",
    "plt.show()"
   ]
  },
  {
   "cell_type": "markdown",
   "metadata": {},
   "source": [
    "## graphique  (Nombre trains en retard > 60min)"
   ]
  },
  {
   "cell_type": "code",
   "execution_count": null,
   "metadata": {},
   "outputs": [],
   "source": [
    "Paris_Est_3=Paris_Est[Paris_Est[Paris_Est.columns[26]].notnull()]  # supprimer les données manquantes\n",
    "\n",
    "#Paris_Est_3[Paris_Est_3.columns[26]].values"
   ]
  },
  {
   "cell_type": "code",
   "execution_count": null,
   "metadata": {},
   "outputs": [],
   "source": [
    "print(\"Paris  EST : \",Paris_Est.columns[26])\n",
    "\n",
    "fig = plt.figure(figsize=(10,7))\n",
    "ax1 = fig.add_subplot(111)\n",
    "# cacher les cadres : haut et droit\n",
    "ax1.spines['right'].set_visible(False)\n",
    "ax1.spines['top'].set_visible(False)\n",
    "\n",
    "\n",
    "ax1.xaxis.set_ticks_position('bottom')\n",
    "\n",
    "plt.plot(Paris_Est_3[Paris_Est_3.columns[26]].values)\n",
    "plt.show()"
   ]
  },
  {
   "cell_type": "markdown",
   "metadata": {},
   "source": [
    "## histogramme  (Nombre trains en retard > 60min)"
   ]
  },
  {
   "cell_type": "code",
   "execution_count": null,
   "metadata": {},
   "outputs": [],
   "source": [
    "import numpy\n",
    "fig = plt.figure(figsize=(10,7))\n",
    "ax1 = fig.add_subplot(111)\n",
    "\n",
    "# cacher les cadres : haut , droit et gauche\n",
    "ax1.spines['right'].set_visible(False)\n",
    "#ax1.spines['left'].set_visible(False)\n",
    "ax1.spines['top'].set_visible(False)\n",
    "\n",
    "\n",
    "ax1.xaxis.set_ticks_position('bottom')\n",
    "#ax1.set_yticks([])\n",
    "\n",
    "plt.hist(Paris_Est_3[Paris_Est_3.columns[26]].values , ec=\"white\",color=numpy.random.rand(3))\n",
    "plt.title(\"Paris  EST : {}\".format(Paris_Est.columns[26]))\n",
    "plt.show()"
   ]
  },
  {
   "cell_type": "code",
   "execution_count": null,
   "metadata": {},
   "outputs": [],
   "source": []
  },
  {
   "cell_type": "code",
   "execution_count": null,
   "metadata": {},
   "outputs": [],
   "source": []
  }
 ],
 "metadata": {
  "kernelspec": {
   "display_name": "Python 3",
   "language": "python",
   "name": "python3"
  },
  "language_info": {
   "codemirror_mode": {
    "name": "ipython",
    "version": 3
   },
   "file_extension": ".py",
   "mimetype": "text/x-python",
   "name": "python",
   "nbconvert_exporter": "python",
   "pygments_lexer": "ipython3",
   "version": "3.6.5"
  }
 },
 "nbformat": 4,
 "nbformat_minor": 2
}

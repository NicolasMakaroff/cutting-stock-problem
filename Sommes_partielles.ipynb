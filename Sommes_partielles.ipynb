{
 "cells": [
  {
   "cell_type": "markdown",
   "metadata": {},
   "source": [
    "<h1 style=\"color:blue;\"> sommes partielles pour l'Estmation des paramètres du modèle AR(1) </h1>"
   ]
  },
  {
   "cell_type": "code",
   "execution_count": null,
   "metadata": {
    "collapsed": true
   },
   "outputs": [],
   "source": [
    "from IPython.display import Markdown, display  # pour affichage en format LaTex"
   ]
  },
  {
   "cell_type": "code",
   "execution_count": null,
   "metadata": {},
   "outputs": [],
   "source": [
    "data=[1,-3,9,7,6,-6,-4,1,-10]\n",
    "data"
   ]
  },
  {
   "cell_type": "markdown",
   "metadata": {},
   "source": [
    "##  pour la somme :     $\\displaystyle \\sum\\limits_{t=2}^{T} x_{t-1} =x_{1}+\\ldots +x_{T-1}$"
   ]
  },
  {
   "cell_type": "code",
   "execution_count": null,
   "metadata": {},
   "outputs": [],
   "source": [
    "for i in range(len(data)-1):\n",
    "    A1=\"x_{}={}\".format(i+1,data[i])\n",
    "    m1  = Markdown('${}$'.format(A1))\n",
    "    display(m1)"
   ]
  },
  {
   "cell_type": "code",
   "execution_count": null,
   "metadata": {},
   "outputs": [],
   "source": [
    "sum(data[:len(data)-1])"
   ]
  },
  {
   "cell_type": "markdown",
   "metadata": {},
   "source": [
    "##  pour la somme :     $\\displaystyle \\sum\\limits_{t=2}^{T} x_{t-1}^{2} =x_{1}^2+\\ldots +x_{T-1}^2$"
   ]
  },
  {
   "cell_type": "code",
   "execution_count": null,
   "metadata": {},
   "outputs": [],
   "source": [
    "# pour affichage\n",
    "\n",
    "for i in range(len(data)-1):\n",
    "    A2=\"x_{}^2={}\".format(i+1,data[i]**2)\n",
    "    m2  = Markdown('${}$'.format(A2))\n",
    "    display(m2)"
   ]
  },
  {
   "cell_type": "code",
   "execution_count": null,
   "metadata": {},
   "outputs": [],
   "source": [
    "sum([x**2 for x in data[:len(data)-1]])"
   ]
  },
  {
   "cell_type": "markdown",
   "metadata": {},
   "source": [
    "##  pour la somme :     $\\displaystyle \\sum\\limits_{t=2}^{T} x_{t}\\,x_{t-1} =x_{2} x_{1}+\\ldots +x_{T}x_{T-1}$"
   ]
  },
  {
   "cell_type": "code",
   "execution_count": null,
   "metadata": {},
   "outputs": [],
   "source": [
    "for i in range(1,len(data)):\n",
    "    A=\"x_{} x_{}={}\".format(i+1,i,data[i]*data[i-1])\n",
    "    m  = Markdown('${}$'.format(A))\n",
    "    display(m)"
   ]
  },
  {
   "cell_type": "code",
   "execution_count": null,
   "metadata": {},
   "outputs": [],
   "source": [
    "sum([data[i]*data[i-1]  for i in range(1,len(data))])"
   ]
  },
  {
   "cell_type": "code",
   "execution_count": null,
   "metadata": {
    "collapsed": true
   },
   "outputs": [],
   "source": []
  }
 ],
 "metadata": {
  "kernelspec": {
   "display_name": "Python 3",
   "language": "python",
   "name": "python3"
  },
  "language_info": {
   "codemirror_mode": {
    "name": "ipython",
    "version": 3
   },
   "file_extension": ".py",
   "mimetype": "text/x-python",
   "name": "python",
   "nbconvert_exporter": "python",
   "pygments_lexer": "ipython3",
   "version": "3.5.3"
  }
 },
 "nbformat": 4,
 "nbformat_minor": 2
}
